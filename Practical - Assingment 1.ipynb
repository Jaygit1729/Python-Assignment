{
 "cells": [
  {
   "cell_type": "markdown",
   "id": "708a9899",
   "metadata": {},
   "source": [
    "## Q- 1. Write a Python program to print &quot;Hello Python&quot;?\n"
   ]
  },
  {
   "cell_type": "code",
   "execution_count": 1,
   "id": "26730475",
   "metadata": {},
   "outputs": [
    {
     "name": "stdout",
     "output_type": "stream",
     "text": [
      "Hello Python\n"
     ]
    }
   ],
   "source": [
    "print('Hello Python')"
   ]
  },
  {
   "cell_type": "markdown",
   "id": "423d3025",
   "metadata": {},
   "source": [
    "## Q- 2  Write a Python program to do arithmetical operations addition and division.?\n"
   ]
  },
  {
   "cell_type": "code",
   "execution_count": 2,
   "id": "f5b51f2d",
   "metadata": {},
   "outputs": [
    {
     "name": "stdout",
     "output_type": "stream",
     "text": [
      "sum of a & b is: 28\n",
      "Division of a & b is: 2.5\n"
     ]
    }
   ],
   "source": [
    "a = 20\n",
    "b = 8\n",
    "\n",
    "# Addition\n",
    "\n",
    "print('sum of a & b is:', a + b )\n",
    "print('Division of a & b is:', round(a / b,2) )"
   ]
  },
  {
   "cell_type": "markdown",
   "id": "bafc9826",
   "metadata": {},
   "source": [
    "## Q-3  Write a Python program to find the area of a triangle?\n"
   ]
  },
  {
   "cell_type": "code",
   "execution_count": 3,
   "id": "bf8effdc",
   "metadata": {},
   "outputs": [
    {
     "name": "stdout",
     "output_type": "stream",
     "text": [
      "enter the base value:10\n",
      "enter the height:20\n"
     ]
    },
    {
     "data": {
      "text/plain": [
       "100.0"
      ]
     },
     "execution_count": 3,
     "metadata": {},
     "output_type": "execute_result"
    }
   ],
   "source": [
    "\n",
    "base = int(input('enter the base value:'))\n",
    "height = int(input('enter the height:'))\n",
    "\n",
    "Area_of_triangle = 1/2 *(base) *(height)\n",
    "Area_of_triangle"
   ]
  },
  {
   "cell_type": "markdown",
   "id": "4590cac9",
   "metadata": {},
   "source": [
    "## Q-4 Write a Python program to swap two variables?\n"
   ]
  },
  {
   "cell_type": "code",
   "execution_count": 4,
   "id": "bace06a2",
   "metadata": {},
   "outputs": [
    {
     "name": "stdout",
     "output_type": "stream",
     "text": [
      "enter the value of first variable:10\n",
      "enter the value of second variable:20\n",
      "the value of a is : 20\n",
      "the value of b is : 10\n"
     ]
    }
   ],
   "source": [
    "\n",
    "a = int(input('enter the value of first variable:'))\n",
    "\n",
    "b= int(input('enter the value of second variable:'))\n",
    "\n",
    "\n",
    "temp = a  #temp = 10\n",
    "\n",
    "a = b    # a = 20\n",
    "\n",
    "b = temp  # b = 10\n",
    "\n",
    "print('the value of a is :',a)\n",
    "print('the value of b is :',b)"
   ]
  },
  {
   "cell_type": "markdown",
   "id": "5fbffbf3",
   "metadata": {},
   "source": [
    "## Q-5. Write a Python program to generate a random number?"
   ]
  },
  {
   "cell_type": "code",
   "execution_count": 5,
   "id": "bb70f8bb",
   "metadata": {},
   "outputs": [
    {
     "data": {
      "text/plain": [
       "89"
      ]
     },
     "execution_count": 5,
     "metadata": {},
     "output_type": "execute_result"
    }
   ],
   "source": [
    "import numpy as np\n",
    "a = np.random.randint(1,100)\n",
    "a"
   ]
  }
 ],
 "metadata": {
  "kernelspec": {
   "display_name": "Python 3 (ipykernel)",
   "language": "python",
   "name": "python3"
  },
  "language_info": {
   "codemirror_mode": {
    "name": "ipython",
    "version": 3
   },
   "file_extension": ".py",
   "mimetype": "text/x-python",
   "name": "python",
   "nbconvert_exporter": "python",
   "pygments_lexer": "ipython3",
   "version": "3.11.5"
  }
 },
 "nbformat": 4,
 "nbformat_minor": 5
}
