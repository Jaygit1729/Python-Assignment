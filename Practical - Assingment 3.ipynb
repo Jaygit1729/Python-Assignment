{
 "cells": [
  {
   "cell_type": "markdown",
   "id": "931ca4d7",
   "metadata": {},
   "source": [
    "## 1.Write a Python Program to Check if a Number is Positive, Negative or Zero?\n"
   ]
  },
  {
   "cell_type": "code",
   "execution_count": 3,
   "id": "8f1dd52f",
   "metadata": {},
   "outputs": [
    {
     "name": "stdout",
     "output_type": "stream",
     "text": [
      "enter the number:0\n",
      "Number 0 is a zero number\n"
     ]
    }
   ],
   "source": [
    "n = int(input('enter the number:'))\n",
    "\n",
    "if n > 0 :\n",
    "    print('Number {} is a positive number'.format(n))\n",
    "elif n < 0:\n",
    "        print('Number {} is a negative number'.format(n))\n",
    "else:\n",
    "        print('Number {} is a zero number'.format(n))"
   ]
  },
  {
   "cell_type": "markdown",
   "id": "3486bd3f",
   "metadata": {},
   "source": [
    "## 2. Write a Python Program to Check if a Number is Odd or Even?\n"
   ]
  },
  {
   "cell_type": "code",
   "execution_count": 4,
   "id": "df01665b",
   "metadata": {},
   "outputs": [
    {
     "name": "stdout",
     "output_type": "stream",
     "text": [
      "enter the number:100\n",
      "Provided number is even\n"
     ]
    }
   ],
   "source": [
    "n = int(input('enter the number:'))\n",
    "\n",
    "if n%2==0:\n",
    "    print('Provided number is even')\n",
    "else:\n",
    "    print('provided number is odd')"
   ]
  },
  {
   "cell_type": "markdown",
   "id": "44b19f56",
   "metadata": {},
   "source": [
    "## 3. Write a Python Program to Check Leap Year?\n"
   ]
  },
  {
   "cell_type": "markdown",
   "id": "013880ba",
   "metadata": {},
   "source": [
    "- A leap year is a year that contains an additional day, February 29th, making it 366 days long instead of the usual 365 days. Leap years are necessary to keep our calendar in alignment with the Earth’s revolutions around the Sun.\n",
    "\n",
    "- A year is a leap year if the following conditions are satisfied: \n",
    "\n",
    "1. The year is multiple of 400.\n",
    "2. The year is a multiple of 4 and not a multiple of 100."
   ]
  },
  {
   "cell_type": "code",
   "execution_count": 7,
   "id": "ae374ae0",
   "metadata": {},
   "outputs": [
    {
     "name": "stdout",
     "output_type": "stream",
     "text": [
      "Enter year to be checked:1400\n",
      "The year isn't a leap year!\n"
     ]
    }
   ],
   "source": [
    "year=int(input(\"Enter year to be checked:\"))\n",
    "if(year%4==0 and year%100!=0 or year%400==0):\n",
    "    print(\"The year is a leap year!\")\n",
    "else:\n",
    "    print(\"The year isn't a leap year!\")"
   ]
  },
  {
   "cell_type": "markdown",
   "id": "7fae6ca6",
   "metadata": {},
   "source": [
    "## 4. Write a Python Program to Check Prime Number?\n"
   ]
  },
  {
   "cell_type": "code",
   "execution_count": 13,
   "id": "59dc06d4",
   "metadata": {},
   "outputs": [
    {
     "name": "stdout",
     "output_type": "stream",
     "text": [
      "29 is a prime number\n"
     ]
    }
   ],
   "source": [
    "# Program to check if a number is prime or not\n",
    "\n",
    "num = 29\n",
    "\n",
    "# To take input from the user\n",
    "#num = int(input(\"Enter a number: \"))\n",
    "\n",
    "# define a flag variable\n",
    "flag = False\n",
    "\n",
    "if num == 1:\n",
    "    print(num, \"is not a prime number\")\n",
    "elif num > 1:\n",
    "    # check for factors\n",
    "    for i in range(2, num):\n",
    "        if (num % i) == 0:\n",
    "            # if factor is found, set flag to True\n",
    "            flag = True\n",
    "            # break out of loop\n",
    "            break\n",
    "\n",
    "    # check if flag is True\n",
    "    if flag:\n",
    "        print(num, \"is not a prime number\")\n",
    "    else:\n",
    "        print(num, \"is a prime number\")"
   ]
  },
  {
   "cell_type": "code",
   "execution_count": 18,
   "id": "503fab83",
   "metadata": {},
   "outputs": [
    {
     "name": "stdout",
     "output_type": "stream",
     "text": [
      "2 is a prime number\n"
     ]
    }
   ],
   "source": [
    "num = 2\n",
    "\n",
    "# To take input from the user\n",
    "#num = int(input(\"Enter a number: \"))\n",
    "\n",
    "if num == 1:\n",
    "    print(num, \"is not a prime number\")\n",
    "elif num > 1:\n",
    "   # check for factors\n",
    "   for i in range(2,num):\n",
    "       if (num % i) == 0:\n",
    "           print(num,\"is not a prime number\")\n",
    "           print(i,\"times\",num//i,\"is\",num)\n",
    "           break\n",
    "   else:\n",
    "       print(num,\"is a prime number\")\n",
    "       \n",
    "# if input number is less than\n",
    "# or equal to 1, it is not prime\n",
    "else:\n",
    "   print(num,\"is not a prime number\")"
   ]
  },
  {
   "cell_type": "markdown",
   "id": "fb554454",
   "metadata": {},
   "source": [
    "## 5. Write a Python Program to Print all Prime Numbers in an Interval of 1-10000?"
   ]
  },
  {
   "cell_type": "code",
   "execution_count": 20,
   "id": "2e03e3f5",
   "metadata": {},
   "outputs": [
    {
     "name": "stdout",
     "output_type": "stream",
     "text": [
      "2\n",
      "3\n",
      "5\n",
      "7\n",
      "11\n",
      "13\n",
      "17\n",
      "19\n",
      "23\n",
      "29\n",
      "31\n",
      "37\n",
      "41\n",
      "43\n",
      "47\n",
      "53\n",
      "59\n",
      "61\n",
      "67\n",
      "71\n",
      "73\n",
      "79\n",
      "83\n",
      "89\n",
      "97\n"
     ]
    }
   ],
   "source": [
    "\n",
    "\n",
    "for i in range(1,101):\n",
    "    if i ==1:\n",
    "        continue\n",
    "    for j in range(2,i):\n",
    "        if i % j == 0:\n",
    "            break\n",
    "    else:\n",
    "        print(i)"
   ]
  },
  {
   "cell_type": "code",
   "execution_count": null,
   "id": "983c0a9f",
   "metadata": {},
   "outputs": [],
   "source": []
  },
  {
   "cell_type": "code",
   "execution_count": null,
   "id": "7a6091df",
   "metadata": {},
   "outputs": [],
   "source": []
  },
  {
   "cell_type": "code",
   "execution_count": null,
   "id": "ff185907",
   "metadata": {},
   "outputs": [],
   "source": []
  }
 ],
 "metadata": {
  "kernelspec": {
   "display_name": "Python 3 (ipykernel)",
   "language": "python",
   "name": "python3"
  },
  "language_info": {
   "codemirror_mode": {
    "name": "ipython",
    "version": 3
   },
   "file_extension": ".py",
   "mimetype": "text/x-python",
   "name": "python",
   "nbconvert_exporter": "python",
   "pygments_lexer": "ipython3",
   "version": "3.11.5"
  }
 },
 "nbformat": 4,
 "nbformat_minor": 5
}
