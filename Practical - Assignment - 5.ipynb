{
 "cells": [
  {
   "cell_type": "markdown",
   "id": "19e2a33a",
   "metadata": {},
   "source": [
    "## 1. Write a Python Program to Find LCM?\n"
   ]
  },
  {
   "cell_type": "code",
   "execution_count": 8,
   "id": "adc3b93d",
   "metadata": {},
   "outputs": [
    {
     "name": "stdout",
     "output_type": "stream",
     "text": [
      "enter the first number:10\n",
      "enter the second number:8\n",
      "40\n"
     ]
    }
   ],
   "source": [
    "# Code here\n",
    "\n",
    "a = int(input('enter the first number:'))\n",
    "\n",
    "b = int(input('enter the second number:'))\n",
    "\n",
    "maxnum = max(a,b)\n",
    "\n",
    "while True:\n",
    "    if maxnum % a == 0 and maxnum % b ==0:\n",
    "        break\n",
    "    maxnum +=1\n",
    "    \n",
    "print(maxnum)\n",
    "    "
   ]
  },
  {
   "cell_type": "markdown",
   "id": "15ceb999",
   "metadata": {},
   "source": [
    "## 2. Write a Python Program to Find HCF?\n"
   ]
  },
  {
   "cell_type": "code",
   "execution_count": 9,
   "id": "cc9f90e5",
   "metadata": {},
   "outputs": [
    {
     "name": "stdout",
     "output_type": "stream",
     "text": [
      "Hcf of 36 and 60 is 12\n"
     ]
    }
   ],
   "source": [
    "num1 = 36\n",
    "num2 = 60\n",
    "hcf = 1\n",
    "\n",
    "for i in range(1, min(num1, num2)):\n",
    "    if num1 % i == 0 and num2 % i == 0:\n",
    "        hcf = i\n",
    "print(\"Hcf of\", num1, \"and\", num2, \"is\", hcf)"
   ]
  },
  {
   "cell_type": "markdown",
   "id": "db16ef4e",
   "metadata": {},
   "source": [
    "## 3. Write a Python Program to Convert Decimal to Binary, Octal and Hexadecimal?\n"
   ]
  },
  {
   "cell_type": "code",
   "execution_count": 28,
   "id": "0ffbd90d",
   "metadata": {},
   "outputs": [
    {
     "name": "stdout",
     "output_type": "stream",
     "text": [
      "enter the number:25\n",
      "10011"
     ]
    }
   ],
   "source": [
    "# Decimal to binary\n",
    "\n",
    "n = int(input('enter the number:'))\n",
    "list1 = []\n",
    "while n > 0:\n",
    "    remainder = n % 2\n",
    "    list1.append(remainder)\n",
    "    n = n//2\n",
    "list1\n",
    "\n",
    "binary = (list1[::-1])\n",
    "\n",
    "for i in binary[::-1]:\n",
    "    print(i,end='')"
   ]
  },
  {
   "cell_type": "code",
   "execution_count": 23,
   "id": "fff99e47",
   "metadata": {},
   "outputs": [
    {
     "name": "stdout",
     "output_type": "stream",
     "text": [
      "The decimal value of 344 is:\n",
      "0b101011000 in binary.\n",
      "0o530 in octal.\n",
      "0x158 in hexadecimal.\n"
     ]
    }
   ],
   "source": [
    "# Python program to convert decimal into other number systems\n",
    "dec = 344\n",
    "\n",
    "print(\"The decimal value of\", dec, \"is:\")\n",
    "print(bin(dec), \"in binary.\")\n",
    "print(oct(dec), \"in octal.\")\n",
    "print(hex(dec), \"in hexadecimal.\")\n"
   ]
  },
  {
   "cell_type": "markdown",
   "id": "4c54acc5",
   "metadata": {},
   "source": [
    "## 4. Write a Python Program To Find ASCII value of a character?\n"
   ]
  },
  {
   "cell_type": "code",
   "execution_count": 35,
   "id": "f9f28f0b",
   "metadata": {},
   "outputs": [
    {
     "name": "stdout",
     "output_type": "stream",
     "text": [
      "enter the character:68\n",
      "D\n"
     ]
    }
   ],
   "source": [
    "n = int(input('enter the character:'))\n",
    "    \n",
    "print(chr(n))"
   ]
  },
  {
   "cell_type": "markdown",
   "id": "841f1d3c",
   "metadata": {},
   "source": [
    "## 5. Write a Python Program to Make a Simple Calculator with 4 basic mathematical operations?"
   ]
  },
  {
   "cell_type": "code",
   "execution_count": 37,
   "id": "dccdeda2",
   "metadata": {},
   "outputs": [
    {
     "name": "stdout",
     "output_type": "stream",
     "text": [
      "enter 1 to do addition\n",
      "enter 2 to do multiplication\n",
      "enter 3 to do subtraction\n",
      "enter 4 to do division1\n",
      "enter the value:10\n",
      "enter the value20\n",
      "30\n"
     ]
    }
   ],
   "source": [
    "inputs = input(\"\"\"enter 1 to do addition\n",
    "enter 2 to do multiplication\n",
    "enter 3 to do subtraction\n",
    "enter 4 to do division\"\"\")\n",
    "\n",
    "input1 = int(input('enter the value:'))\n",
    "input2 = int(input('enter the value'))\n",
    "if inputs == '1':\n",
    "    print(input1 + input2)\n",
    "if inputs == '2':\n",
    "    print(input1 * input2)\n",
    "if inputs == '3':\n",
    "    print(input1 - input2)\n",
    "if inputs == '4':\n",
    "    print(input1 / input2)"
   ]
  },
  {
   "cell_type": "code",
   "execution_count": null,
   "id": "80ace326",
   "metadata": {},
   "outputs": [],
   "source": []
  }
 ],
 "metadata": {
  "kernelspec": {
   "display_name": "Python 3 (ipykernel)",
   "language": "python",
   "name": "python3"
  },
  "language_info": {
   "codemirror_mode": {
    "name": "ipython",
    "version": 3
   },
   "file_extension": ".py",
   "mimetype": "text/x-python",
   "name": "python",
   "nbconvert_exporter": "python",
   "pygments_lexer": "ipython3",
   "version": "3.11.5"
  }
 },
 "nbformat": 4,
 "nbformat_minor": 5
}
