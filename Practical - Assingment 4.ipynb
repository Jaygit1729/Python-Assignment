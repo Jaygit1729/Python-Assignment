{
 "cells": [
  {
   "cell_type": "markdown",
   "id": "7c412c37",
   "metadata": {},
   "source": [
    "## 1. Write a Python Program to Find the Factorial of a Number?\n"
   ]
  },
  {
   "cell_type": "code",
   "execution_count": 17,
   "id": "2c6544f4",
   "metadata": {},
   "outputs": [
    {
     "name": "stdout",
     "output_type": "stream",
     "text": [
      "enter the number:1\n",
      "1\n"
     ]
    }
   ],
   "source": [
    "n = int(input('enter the number:'))\n",
    "\n",
    "product = 1\n",
    "\n",
    "while n > 0:  # 6 \n",
    "    product = product * n\n",
    "    n = n -1 \n",
    "print(product)\n",
    "\n"
   ]
  },
  {
   "cell_type": "code",
   "execution_count": 22,
   "id": "ef7928fb",
   "metadata": {},
   "outputs": [
    {
     "name": "stdout",
     "output_type": "stream",
     "text": [
      "enter the number:0\n",
      "1\n"
     ]
    }
   ],
   "source": [
    "n = int(input('enter the number:'))\n",
    "\n",
    "product = 1\n",
    "\n",
    "for i in range(1,n+1): # n = 3 , i = 1,2,3\n",
    "        product = i * product\n",
    "print(product)\n",
    "        "
   ]
  },
  {
   "cell_type": "markdown",
   "id": "050ea63c",
   "metadata": {},
   "source": [
    "## 2. Write a Python Program to Display the multiplication Table?\n"
   ]
  },
  {
   "cell_type": "code",
   "execution_count": 27,
   "id": "487b1bc5",
   "metadata": {},
   "outputs": [
    {
     "name": "stdout",
     "output_type": "stream",
     "text": [
      "enter the number:10\n",
      "10 * 0 = 0\n",
      "10 * 1 = 10\n",
      "10 * 2 = 20\n",
      "10 * 3 = 30\n",
      "10 * 4 = 40\n",
      "10 * 5 = 50\n",
      "10 * 6 = 60\n",
      "10 * 7 = 70\n",
      "10 * 8 = 80\n",
      "10 * 9 = 90\n",
      "10 * 10 = 100\n"
     ]
    }
   ],
   "source": [
    "n = int(input('enter the number:'))\n",
    "\n",
    "for i in range(n+1):\n",
    "    print('{} * {} = {}'.format(n,i,n*i) )"
   ]
  },
  {
   "cell_type": "markdown",
   "id": "f0b5d77e",
   "metadata": {},
   "source": [
    "## 3. Write a Python Program to Print the Fibonacci sequence?\n"
   ]
  },
  {
   "cell_type": "code",
   "execution_count": 31,
   "id": "379e215d",
   "metadata": {},
   "outputs": [
    {
     "name": "stdout",
     "output_type": "stream",
     "text": [
      "fibonacci sequence: 0 1 1 2 3 5 8 13 21 34 "
     ]
    }
   ],
   "source": [
    "# 0,1,1,2,3,5,8,13 >> fibonacci sequence\n",
    "\n",
    "n = 10\n",
    "\n",
    "n1 = 0\n",
    "n2 = 1\n",
    "\n",
    "print('fibonacci sequence:', n1 ,n2 , end=' ')\n",
    "\n",
    "for i in range(2,n):\n",
    "    n3 = n1 + n2\n",
    "    n1 = n2\n",
    "    n2 = n3\n",
    "    print(n3,end=' ')\n",
    "    "
   ]
  },
  {
   "cell_type": "code",
   "execution_count": 44,
   "id": "5544ff42",
   "metadata": {},
   "outputs": [
    {
     "name": "stdout",
     "output_type": "stream",
     "text": [
      "0 1 1 2 3 5 8 13 "
     ]
    }
   ],
   "source": [
    "n = 6\n",
    "num1 = 0\n",
    "num2 = 1\n",
    "count = 1\n",
    "print(num1,num2, end=\" \")\n",
    "while count <= n:\n",
    "    \n",
    "    count += 1\n",
    "    next_number = num1 + num2\n",
    "    num1, num2 = num2, next_number\n",
    "    \n",
    "    print(next_number,end=' ')\n"
   ]
  },
  {
   "cell_type": "markdown",
   "id": "a5e71ea8",
   "metadata": {},
   "source": [
    "## 4. Write a Python Program to Check Armstrong Number?\n"
   ]
  },
  {
   "cell_type": "code",
   "execution_count": 51,
   "id": "e0eb837a",
   "metadata": {},
   "outputs": [
    {
     "name": "stdout",
     "output_type": "stream",
     "text": [
      "enter the number153\n",
      "number is armstrong number\n"
     ]
    }
   ],
   "source": [
    "n = int(input('enter the number'))\n",
    "\n",
    "# 149 = 1^3 + 4^3 + 9^3\n",
    "\n",
    "copy = n\n",
    "\n",
    "sum = 0\n",
    "\n",
    "power = len(str(n))\n",
    "\n",
    "while n > 0 :\n",
    "    \n",
    "    last_digit = n % 10 \n",
    "    \n",
    "    sum = sum + last_digit **(power)\n",
    "    \n",
    "    n = n // 10\n",
    "\n",
    "if sum == copy:\n",
    "    print('number is armstrong number')\n",
    "else:\n",
    "    print('it is not a armstrong number')"
   ]
  },
  {
   "cell_type": "markdown",
   "id": "7160b6ed",
   "metadata": {},
   "source": [
    "## 5. Write a Python Program to Find Armstrong Number in an Interval?\n"
   ]
  },
  {
   "cell_type": "code",
   "execution_count": 59,
   "id": "2b7cb4d1",
   "metadata": {},
   "outputs": [
    {
     "name": "stdout",
     "output_type": "stream",
     "text": [
      "enter the lower bound:0\n",
      "enter the upper_bound:100\n",
      "0\n",
      "1\n",
      "2\n",
      "3\n",
      "4\n",
      "5\n",
      "6\n",
      "7\n",
      "8\n",
      "9\n"
     ]
    }
   ],
   "source": [
    "lower_bound = int(input('enter the lower bound:'))\n",
    "upper_bound = int(input('enter the upper_bound:'))\n",
    "\n",
    "\n",
    "\n",
    "for i in range(lower_bound , upper_bound + 1):\n",
    "    \n",
    "    temp = i\n",
    "    sum = 0\n",
    "    power= len(str(i))\n",
    "    while temp > 0 :\n",
    "        \n",
    "        last_digit = temp % 10\n",
    "        sum = sum + last_digit **(power)\n",
    "        \n",
    "        temp = temp // 10\n",
    "        \n",
    "    if sum == i:\n",
    "        print(i)\n",
    "        "
   ]
  },
  {
   "cell_type": "code",
   "execution_count": 60,
   "id": "1774f5cf",
   "metadata": {},
   "outputs": [
    {
     "name": "stdout",
     "output_type": "stream",
     "text": [
      "Enter the start of the range: 0\n",
      "Enter the end of the range: 100\n",
      "0\n",
      "1\n",
      "2\n",
      "3\n",
      "4\n",
      "5\n",
      "6\n",
      "7\n",
      "8\n",
      "9\n"
     ]
    }
   ],
   "source": [
    "# Write code here\n",
    "start = int(input(\"Enter the start of the range: \"))\n",
    "end = int(input(\"Enter the end of the range: \"))\n",
    "\n",
    "for num in range(start, end+1):\n",
    "    temp = num\n",
    "    sum = 0\n",
    "    order = len(str(num))\n",
    "    while temp > 0:\n",
    "        digit = temp % 10\n",
    "        sum += digit ** order\n",
    "        temp //= 10\n",
    "    if num == sum:\n",
    "        print(num)\n",
    "\n"
   ]
  },
  {
   "cell_type": "markdown",
   "id": "191e59b3",
   "metadata": {},
   "source": [
    "## 6. Write a Python Program to Find the Sum of Natural Numbers?"
   ]
  },
  {
   "cell_type": "code",
   "execution_count": 62,
   "id": "638d6e32",
   "metadata": {},
   "outputs": [
    {
     "name": "stdout",
     "output_type": "stream",
     "text": [
      "enter the number:10\n",
      "55\n"
     ]
    }
   ],
   "source": [
    "n = int(input('enter the number:'))\n",
    "\n",
    "sum = 0\n",
    "\n",
    "while n > 0:\n",
    "    \n",
    "    sum = sum + n\n",
    "    \n",
    "    n = n -1 \n",
    "    \n",
    "print(sum)"
   ]
  },
  {
   "cell_type": "code",
   "execution_count": 63,
   "id": "de0d95ee",
   "metadata": {},
   "outputs": [
    {
     "name": "stdout",
     "output_type": "stream",
     "text": [
      "enter the number:10\n",
      "55\n"
     ]
    }
   ],
   "source": [
    "n = int(input('enter the number:'))\n",
    "\n",
    "sum = 0\n",
    "\n",
    "for i in range(n+1):\n",
    "    \n",
    "    sum = sum + i \n",
    "    \n",
    "print(sum)"
   ]
  },
  {
   "cell_type": "code",
   "execution_count": null,
   "id": "ba197433",
   "metadata": {},
   "outputs": [],
   "source": []
  }
 ],
 "metadata": {
  "kernelspec": {
   "display_name": "Python 3 (ipykernel)",
   "language": "python",
   "name": "python3"
  },
  "language_info": {
   "codemirror_mode": {
    "name": "ipython",
    "version": 3
   },
   "file_extension": ".py",
   "mimetype": "text/x-python",
   "name": "python",
   "nbconvert_exporter": "python",
   "pygments_lexer": "ipython3",
   "version": "3.11.5"
  }
 },
 "nbformat": 4,
 "nbformat_minor": 5
}
