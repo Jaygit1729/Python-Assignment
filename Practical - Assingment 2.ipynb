{
 "cells": [
  {
   "cell_type": "markdown",
   "id": "d0b63b3b",
   "metadata": {},
   "source": [
    "## Q-1. Write a Python program to convert kilometers to miles?\n"
   ]
  },
  {
   "cell_type": "code",
   "execution_count": 1,
   "id": "7e50b85c",
   "metadata": {},
   "outputs": [
    {
     "name": "stdout",
     "output_type": "stream",
     "text": [
      "enter the miles value:10\n",
      "if we walk 10 miles then it would be 6.2km\n"
     ]
    }
   ],
   "source": [
    "a = int(input('enter the miles value:'))\n",
    "\n",
    "km = 0.62 * a\n",
    "print('if we walk {} miles then it would be {}km'.format(a,km))"
   ]
  },
  {
   "cell_type": "markdown",
   "id": "69de4328",
   "metadata": {},
   "source": [
    "## Q-2. Write a Python program to convert Celsius to Fahrenheit?\n"
   ]
  },
  {
   "cell_type": "code",
   "execution_count": 2,
   "id": "6d49a0d6",
   "metadata": {},
   "outputs": [
    {
     "name": "stdout",
     "output_type": "stream",
     "text": [
      "enter the temperature in celsius:5\n",
      "41.0\n"
     ]
    }
   ],
   "source": [
    "# Write your code here\n",
    "\n",
    "cel = float(input('enter the temperature in celsius:'))\n",
    "\n",
    "fahrenheit = cel * (9/5) + 32\n",
    "\n",
    "print(fahrenheit)"
   ]
  },
  {
   "cell_type": "markdown",
   "id": "faf131a2",
   "metadata": {},
   "source": [
    "\n",
    "\n",
    "## Q-3. Write a Python program to display calendar?\n",
    "\n",
    "\n"
   ]
  },
  {
   "cell_type": "code",
   "execution_count": 3,
   "id": "d623c3ee",
   "metadata": {},
   "outputs": [
    {
     "name": "stdout",
     "output_type": "stream",
     "text": [
      "enter the year value:2024\n",
      "enter the month value:02\n",
      "\n",
      "   February 2024\n",
      "Mo Tu We Th Fr Sa Su\n",
      "          1  2  3  4\n",
      " 5  6  7  8  9 10 11\n",
      "12 13 14 15 16 17 18\n",
      "19 20 21 22 23 24 25\n",
      "26 27 28 29\n",
      "\n"
     ]
    }
   ],
   "source": [
    "import calendar\n",
    "\n",
    "year = int(input('enter the year value:'))\n",
    "month = int(input('enter the month value:'))\n",
    "print()\n",
    "print(calendar.month(year,month))\n"
   ]
  },
  {
   "cell_type": "markdown",
   "id": "10f80e6c",
   "metadata": {},
   "source": [
    "## Q-4. Write a Python program to solve quadratic equation?\n"
   ]
  },
  {
   "cell_type": "code",
   "execution_count": 4,
   "id": "8647bc71",
   "metadata": {},
   "outputs": [
    {
     "name": "stdout",
     "output_type": "stream",
     "text": [
      "enter the value of a:10\n",
      "enter the value of b:20\n",
      "enter the value of c:30\n",
      "solution for the equation is: ((-20+141.4213562373095j), (-20-141.4213562373095j))\n"
     ]
    }
   ],
   "source": [
    "import cmath\n",
    "\n",
    "\n",
    "a = int(input('enter the value of a:'))\n",
    "b = int(input('enter the value of b:'))\n",
    "c = int(input('enter the value of c:'))\n",
    "\n",
    "discriminant_D = b**2 - 4 *(a)*(c)\n",
    "\n",
    "first_solution = - b + cmath.sqrt(discriminant_D) / 2 * a\n",
    "second_solution = -b - cmath.sqrt(discriminant_D) / 2 * a\n",
    "\n",
    "print('solution for the equation is:',(first_solution,second_solution))"
   ]
  },
  {
   "cell_type": "markdown",
   "id": "bedb525d",
   "metadata": {},
   "source": [
    "## Q-5. Write a Python program to swap two variables without temp variable?"
   ]
  },
  {
   "cell_type": "code",
   "execution_count": 5,
   "id": "ecd2fd21",
   "metadata": {},
   "outputs": [
    {
     "name": "stdout",
     "output_type": "stream",
     "text": [
      "enter the first value:10\n",
      "enter the second value:100\n",
      "value of a: 100\n",
      "value of b: 10\n"
     ]
    }
   ],
   "source": [
    "a = int(input('enter the first value:'))\n",
    "\n",
    "b =int(input('enter the second value:'))\n",
    "\n",
    "a,b = b,a\n",
    "\n",
    "print('value of a:',a)\n",
    "print('value of b:',b)"
   ]
  },
  {
   "cell_type": "code",
   "execution_count": null,
   "id": "1e2efb93",
   "metadata": {},
   "outputs": [],
   "source": []
  }
 ],
 "metadata": {
  "kernelspec": {
   "display_name": "Python 3 (ipykernel)",
   "language": "python",
   "name": "python3"
  },
  "language_info": {
   "codemirror_mode": {
    "name": "ipython",
    "version": 3
   },
   "file_extension": ".py",
   "mimetype": "text/x-python",
   "name": "python",
   "nbconvert_exporter": "python",
   "pygments_lexer": "ipython3",
   "version": "3.11.5"
  }
 },
 "nbformat": 4,
 "nbformat_minor": 5
}
